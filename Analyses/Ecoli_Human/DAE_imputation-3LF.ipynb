{
 "cells": [
  {
   "cell_type": "code",
   "execution_count": null,
   "id": "9802e32d-09bf-4e9d-910a-968febd74fd9",
   "metadata": {},
   "outputs": [],
   "source": [
    "import numpy as np\n",
    "import pandas as pd\n",
    "from pimmslearn.sklearn.ae_transformer import AETransformer\n",
    "from pimmslearn.sklearn.cf_transformer import CollaborativeFilteringTransformer\n",
    "import time\n",
    "import random\n",
    "\n",
    "random.seed(10)\n"
   ]
  },
  {
   "cell_type": "code",
   "execution_count": null,
   "id": "9307d1c8-c12f-4dbc-8cb5-cdc2ca847bd1",
   "metadata": {},
   "outputs": [],
   "source": [
    "fn_intensities = ('../../Data/Ecoli_Human/Ecoli_Human_sce.csv')\n",
    "df = pd.read_csv(fn_intensities, index_col=0)\n",
    "df = df.T"
   ]
  },
  {
   "cell_type": "code",
   "execution_count": null,
   "id": "cf6e69cb-e7a8-4da8-bf24-dae3917145d5",
   "metadata": {},
   "outputs": [],
   "source": [
    "df.head()"
   ]
  },
  {
   "cell_type": "code",
   "execution_count": null,
   "id": "9e63da2f-6310-414b-b863-0153bad324fd",
   "metadata": {},
   "outputs": [],
   "source": [
    "start = time.time()\n",
    "model = AETransformer(\n",
    "    model='DAE', # or 'VAE'\n",
    "    hidden_layers=[512,],\n",
    "    latent_dim=3, # dimension of joint sample and item embedding\n",
    "    batch_size=10,\n",
    ")\n",
    "\n",
    "\n",
    "model.fit(df,\n",
    "          cuda=False,\n",
    "          epochs_max=100,\n",
    "          )\n",
    "\n",
    "df_imputed = model.transform(df)\n",
    "\n",
    "end = time.time()\n",
    "\n",
    "print(end - start)"
   ]
  },
  {
   "cell_type": "code",
   "execution_count": null,
   "id": "52dec647-383c-49da-8b9a-4e83df491047",
   "metadata": {},
   "outputs": [],
   "source": [
    "df_imputed.to_csv(\"Output/DAE_sce_3LF.csv\")\n"
   ]
  },
  {
   "cell_type": "code",
   "execution_count": null,
   "id": "bf9466c4-a7b9-418d-b84a-909b23106ca6",
   "metadata": {},
   "outputs": [],
   "source": [
    "for x in range(1,11):\n",
    "    fn_intensities = ('../../Data/Ecoli_Human/Ecoli_Human_MISTOT10_MNAR25_' + str(x) + '.csv')\n",
    "    df = pd.read_csv(fn_intensities, index_col=0)\n",
    "    df = df.T\n",
    "    \n",
    "    start = time.time()\n",
    "    model = AETransformer(\n",
    "        model='DAE', # or 'VAE'\n",
    "        hidden_layers=[512,],\n",
    "        latent_dim=3, # dimension of joint sample and item embedding\n",
    "        batch_size=10,\n",
    "    )\n",
    "    \n",
    "    \n",
    "    model.fit(df,\n",
    "              cuda=False,\n",
    "              epochs_max=100,\n",
    "              )\n",
    "    \n",
    "    df_imputed = model.transform(df)\n",
    "    \n",
    "    end = time.time()\n",
    "    \n",
    "    print(end - start)\n",
    "    \n",
    "    df_imputed.to_csv(\"Output/DAE_MISTOT10_MNAR25_3LF_\" + str(x) + \".csv\")\n"
   ]
  },
  {
   "cell_type": "code",
   "execution_count": null,
   "id": "6e229d6e-6b07-49af-a1c2-7769bc56c168",
   "metadata": {},
   "outputs": [],
   "source": [
    "for x in range(1,11):\n",
    "    fn_intensities = ('../../Data/Ecoli_Human/Ecoli_Human_MISTOT10_MNAR50_' + str(x) + '.csv')\n",
    "    df = pd.read_csv(fn_intensities, index_col=0)\n",
    "    df = df.T\n",
    "    \n",
    "    start = time.time()\n",
    "    model = AETransformer(\n",
    "        model='DAE', # or 'VAE'\n",
    "        hidden_layers=[512,],\n",
    "        latent_dim=3, # dimension of joint sample and item embedding\n",
    "        batch_size=10,\n",
    "    )\n",
    "    \n",
    "    \n",
    "    model.fit(df,\n",
    "              cuda=False,\n",
    "              epochs_max=100,\n",
    "              )\n",
    "    \n",
    "    df_imputed = model.transform(df)\n",
    "    \n",
    "    end = time.time()\n",
    "    \n",
    "    print(end - start)\n",
    "    \n",
    "    df_imputed.to_csv(\"Output/DAE_MISTOT10_MNAR50_3LF_\" + str(x) + \".csv\")\n"
   ]
  },
  {
   "cell_type": "code",
   "execution_count": null,
   "id": "71da74e2-e02c-446f-b49b-066d522dd4bf",
   "metadata": {},
   "outputs": [],
   "source": [
    "for x in range(1,11):\n",
    "    fn_intensities = ('../../Data/Ecoli_Human/Ecoli_Human_MISTOT10_MNAR75_' + str(x) + '.csv')\n",
    "    df = pd.read_csv(fn_intensities, index_col=0)\n",
    "    df = df.T\n",
    "    \n",
    "    start = time.time()\n",
    "    model = AETransformer(\n",
    "        model='DAE', # or 'VAE'\n",
    "        hidden_layers=[512,],\n",
    "        latent_dim=3, # dimension of joint sample and item embedding\n",
    "        batch_size=10,\n",
    "    )\n",
    "    \n",
    "    \n",
    "    model.fit(df,\n",
    "              cuda=False,\n",
    "              epochs_max=100,\n",
    "              )\n",
    "    \n",
    "    df_imputed = model.transform(df)\n",
    "    \n",
    "    end = time.time()\n",
    "    \n",
    "    print(end - start)\n",
    "    \n",
    "    df_imputed.to_csv(\"Output/DAE_MISTOT10_MNAR75_3LF_\" + str(x) + \".csv\")\n"
   ]
  }
 ],
 "metadata": {
  "kernelspec": {
   "display_name": "Python 3 (ipykernel)",
   "language": "python",
   "name": "python3"
  },
  "language_info": {
   "codemirror_mode": {
    "name": "ipython",
    "version": 3
   },
   "file_extension": ".py",
   "mimetype": "text/x-python",
   "name": "python",
   "nbconvert_exporter": "python",
   "pygments_lexer": "ipython3",
   "version": "3.11.5"
  }
 },
 "nbformat": 4,
 "nbformat_minor": 5
}
