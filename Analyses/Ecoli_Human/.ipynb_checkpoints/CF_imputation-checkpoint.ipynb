{
 "cells": [
  {
   "cell_type": "code",
   "execution_count": null,
   "id": "9802e32d-09bf-4e9d-910a-968febd74fd9",
   "metadata": {},
   "outputs": [],
   "source": [
    "import numpy as np\n",
    "import pandas as pd\n",
    "from pimmslearn.sklearn.ae_transformer import AETransformer\n",
    "from pimmslearn.sklearn.cf_transformer import CollaborativeFilteringTransformer\n",
    "import time\n",
    "import random\n",
    "\n",
    "random.seed(10)\n"
   ]
  },
  {
   "cell_type": "code",
   "execution_count": null,
   "id": "9307d1c8-c12f-4dbc-8cb5-cdc2ca847bd1",
   "metadata": {},
   "outputs": [],
   "source": [
    "fn_intensities = ('../../Data/Ecoli_Human/Ecoli_Human_sce.csv')\n",
    "df = pd.read_csv(fn_intensities, index_col=0)\n",
    "df = df.T\n",
    "index_name = 'Sample ID'\n",
    "column_name = 'protein group'\n",
    "value_name = 'intensity'"
   ]
  },
  {
   "cell_type": "code",
   "execution_count": null,
   "id": "cf6e69cb-e7a8-4da8-bf24-dae3917145d5",
   "metadata": {},
   "outputs": [],
   "source": [
    "df.head()"
   ]
  },
  {
   "cell_type": "code",
   "execution_count": null,
   "id": "9e63da2f-6310-414b-b863-0153bad324fd",
   "metadata": {},
   "outputs": [],
   "source": [
    "start = time.time()\n",
    "\n",
    "\n",
    "\n",
    "df.index.name = index_name  # already set\n",
    "df.columns.name = column_name  \n",
    "\n",
    "series = df.stack()\n",
    "series.name = value_name  # ! important\n",
    "model = CollaborativeFilteringTransformer(\n",
    "    target_column=value_name,\n",
    "    sample_column=index_name,\n",
    "    item_column=column_name,\n",
    "    n_factors=2, # dimension of separate sample and item embedding\n",
    "    batch_size = 4096\n",
    ")\n",
    "\n",
    "model.fit(series, cuda=False, epochs_max=20)\n",
    "df_imputed = model.transform(series).unstack()\n",
    "\n",
    "\n",
    "\n",
    "\n",
    "end = time.time()\n",
    "\n",
    "print(end - start)"
   ]
  },
  {
   "cell_type": "code",
   "execution_count": null,
   "id": "52dec647-383c-49da-8b9a-4e83df491047",
   "metadata": {},
   "outputs": [],
   "source": [
    "df_imputed.to_csv(\"Output/CF_sce.csv\")\n"
   ]
  },
  {
   "cell_type": "code",
   "execution_count": null,
   "id": "80567677-88ff-4ab6-ae86-4e22155d0365",
   "metadata": {},
   "outputs": [],
   "source": [
    "for x in range(1,11):\n",
    "    fn_intensities = ('../../Data/Ecoli_Human/Ecoli_Human_MISTOT10_MNAR25_' + str(x) + '.csv')\n",
    "    df = pd.read_csv(fn_intensities, index_col=0)\n",
    "    df = df.T\n",
    "    \n",
    "    start = time.time()\n",
    "\n",
    "    df.index.name = index_name  # already set\n",
    "    df.columns.name = column_name  \n",
    "\n",
    "    series = df.stack()\n",
    "    series.name = value_name  # ! important\n",
    "    model = CollaborativeFilteringTransformer(\n",
    "        target_column=value_name,\n",
    "        sample_column=index_name,\n",
    "        item_column=column_name,\n",
    "        n_factors=2, # dimension of separate sample and item embedding\n",
    "        batch_size = 4096\n",
    "    )\n",
    "    \n",
    "    model.fit(series, cuda=False, epochs_max=20)\n",
    "    df_imputed = model.transform(series).unstack()\n",
    "    \n",
    "    end = time.time()\n",
    "    \n",
    "    print(end - start)\n",
    "    \n",
    "    df_imputed.to_csv(\"Output/CF_MISTOT10_MNAR25_\" + str(x) + \".csv\")"
   ]
  },
  {
   "cell_type": "code",
   "execution_count": null,
   "id": "c5077401-0453-4dd8-a15f-99af7a48b3bf",
   "metadata": {},
   "outputs": [],
   "source": [
    "for x in range(1,11):\n",
    "    fn_intensities = ('../../Data/Ecoli_Human/Ecoli_Human_MISTOT10_MNAR50_' + str(x) + '.csv')\n",
    "    df = pd.read_csv(fn_intensities, index_col=0)\n",
    "    df = df.T\n",
    "    \n",
    "    start = time.time()\n",
    "\n",
    "    df.index.name = index_name  # already set\n",
    "    df.columns.name = column_name  \n",
    "\n",
    "    series = df.stack()\n",
    "    series.name = value_name  # ! important\n",
    "    model = CollaborativeFilteringTransformer(\n",
    "        target_column=value_name,\n",
    "        sample_column=index_name,\n",
    "        item_column=column_name,\n",
    "        n_factors=2, # dimension of separate sample and item embedding\n",
    "        batch_size = 4096\n",
    "    )\n",
    "    \n",
    "    model.fit(series, cuda=False, epochs_max=20)\n",
    "    df_imputed = model.transform(series).unstack()\n",
    "    \n",
    "    end = time.time()\n",
    "    \n",
    "    print(end - start)\n",
    "    \n",
    "    df_imputed.to_csv(\"Output/CF_MISTOT10_MNAR50_\" + str(x) + \".csv\")"
   ]
  },
  {
   "cell_type": "code",
   "execution_count": null,
   "id": "0a6fcb10-bfc0-4906-8e82-c8f5cccb8bf2",
   "metadata": {},
   "outputs": [],
   "source": [
    "for x in range(1,11):\n",
    "    fn_intensities = ('../../Data/Ecoli_Human/Ecoli_Human_MISTOT10_MNAR75_' + str(x) + '.csv')\n",
    "    df = pd.read_csv(fn_intensities, index_col=0)\n",
    "    df = df.T\n",
    "    \n",
    "    start = time.time()\n",
    "\n",
    "    df.index.name = index_name  # already set\n",
    "    df.columns.name = column_name  \n",
    "\n",
    "    series = df.stack()\n",
    "    series.name = value_name  # ! important\n",
    "    model = CollaborativeFilteringTransformer(\n",
    "        target_column=value_name,\n",
    "        sample_column=index_name,\n",
    "        item_column=column_name,\n",
    "        n_factors=2, # dimension of separate sample and item embedding\n",
    "        batch_size = 4096\n",
    "    )\n",
    "    \n",
    "    model.fit(series, cuda=False, epochs_max=20)\n",
    "    df_imputed = model.transform(series).unstack()\n",
    "    \n",
    "    end = time.time()\n",
    "    \n",
    "    print(end - start)\n",
    "    \n",
    "    df_imputed.to_csv(\"Output/CF_MISTOT10_MNAR75_\" + str(x) + \".csv\")"
   ]
  }
 ],
 "metadata": {
  "kernelspec": {
   "display_name": "Python 3 (ipykernel)",
   "language": "python",
   "name": "python3"
  },
  "language_info": {
   "codemirror_mode": {
    "name": "ipython",
    "version": 3
   },
   "file_extension": ".py",
   "mimetype": "text/x-python",
   "name": "python",
   "nbconvert_exporter": "python",
   "pygments_lexer": "ipython3",
   "version": "3.11.5"
  }
 },
 "nbformat": 4,
 "nbformat_minor": 5
}
